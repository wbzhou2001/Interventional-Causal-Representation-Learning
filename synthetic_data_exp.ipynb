{
 "cells": [
  {
   "cell_type": "markdown",
   "metadata": {},
   "source": [
    "# Interventional Causal Representation Learning\n",
    "\n",
    "This is a demo Jupyter notebook for the paper Interventional Causal Rrepresentation Learning.\n",
    "\n",
    "First, generate PyGame dataset. We will use 20000 train size and 1000 test size. The latent variables constructs a non-linear SCM, and we assume that the data contains data from interventions_per_latent(3) * latent_dim(4) = 12 interventional distributions."
   ]
  },
  {
   "cell_type": "code",
   "execution_count": 1,
   "metadata": {},
   "outputs": [],
   "source": [
    "# import os\n",
    "# command = \"python data/balls_dataset.py  --train_size 20000 --test_size 1000 --distribution_case 'intervention' --latent_case 'scm' --scm_mechanism 'non_linear' --interventions_per_latent 1\"\n",
    "# os.system(command)"
   ]
  },
  {
   "cell_type": "code",
   "execution_count": 2,
   "metadata": {},
   "outputs": [],
   "source": [
    "import numpy as np\n",
    "\n",
    "train_x_path    = 'data/datasets/balls_scm_non_linear/intervention/train_x.npy'\n",
    "train_y_path    = 'data/datasets/balls_scm_non_linear/intervention/train_y.npy'\n",
    "train_z_path    = 'data/datasets/balls_scm_non_linear/intervention/train_z.npy'\n",
    "# val_x_path      = 'data/datasets/balls_scm_non_linear/intervention/val_x.npy'\n",
    "# val_y_path      = 'data/datasets/balls_scm_non_linear/intervention/val_y.npy'\n",
    "# val_z_path      = 'data/datasets/balls_scm_non_linear/intervention/val_z.npy'\n",
    "test_x_path     = 'data/datasets/balls_scm_non_linear/intervention/test_x.npy'\n",
    "test_y_path     = 'data/datasets/balls_scm_non_linear/intervention/test_y.npy'\n",
    "test_z_path     = 'data/datasets/balls_scm_non_linear/intervention/test_z.npy'"
   ]
  },
  {
   "cell_type": "markdown",
   "metadata": {},
   "source": [
    "Here are the descriptions of the variables:\n",
    "- X contains the image\n",
    "- Z contains the latent variable (spatial coordinates of the balls)\n",
    "- Y contains the label of the interventional status of the balls. -1 is the default value.\n",
    "    - First axis    : index of ball (ranging from 0 - 3)\n",
    "    - Second axis   : intervention value (ranging from 0 - 1)"
   ]
  },
  {
   "cell_type": "code",
   "execution_count": 3,
   "metadata": {},
   "outputs": [],
   "source": [
    "train_x = np.load(train_x_path) # [ train_size, 64, 64, 3 ]\n",
    "train_y = np.load(train_y_path) # [ train_size, 2 ]\n",
    "train_z = np.load(train_z_path) # [ train_size, 4 ]\n",
    "\n",
    "test_x = np.load(test_x_path) # [ test_size, 64, 64, 3 ]\n",
    "test_y = np.load(test_y_path) # [ test_size, 2 ]\n",
    "test_z = np.load(test_z_path) # [ test_size, 4 ]"
   ]
  },
  {
   "cell_type": "code",
   "execution_count": 4,
   "metadata": {},
   "outputs": [
    {
     "name": "stderr",
     "output_type": "stream",
     "text": [
      "C:\\Users\\wenbi\\AppData\\Local\\Packages\\PythonSoftwareFoundation.Python.3.11_qbz5n2kfra8p0\\LocalCache\\local-packages\\Python311\\site-packages\\torchvision\\models\\_utils.py:208: UserWarning: The parameter 'pretrained' is deprecated since 0.13 and may be removed in the future, please use 'weights' instead.\n",
      "  warnings.warn(\n",
      "C:\\Users\\wenbi\\AppData\\Local\\Packages\\PythonSoftwareFoundation.Python.3.11_qbz5n2kfra8p0\\LocalCache\\local-packages\\Python311\\site-packages\\torchvision\\models\\_utils.py:223: UserWarning: Arguments other than a weight enum or `None` for 'weights' are deprecated since 0.13 and may be removed in the future. The current behavior is equivalent to passing `weights=ResNet18_Weights.IMAGENET1K_V1`. You can also use `weights=ResNet18_Weights.DEFAULT` to get the most up-to-date weights.\n",
      "  warnings.warn(msg)\n"
     ]
    }
   ],
   "source": [
    "from model.encoder import ImageEncoder\n",
    "from model.decoder import ImageDecoder\n",
    "\n",
    "latent_dim = 4\n",
    "\n",
    "# ignore the warnings\n",
    "encoder = ImageEncoder(latent_dim=latent_dim)\n",
    "decoder = ImageDecoder(latent_dim=latent_dim)"
   ]
  },
  {
   "cell_type": "code",
   "execution_count": 5,
   "metadata": {},
   "outputs": [
    {
     "name": "stdout",
     "output_type": "stream",
     "text": [
      "Epoch: 0\t Loss: 7156.4873046875\n",
      "Epoch: 10\t Loss: 6939.3671875\n",
      "Epoch: 20\t Loss: 7088.67333984375\n",
      "Epoch: 30\t Loss: 6975.98193359375\n",
      "Epoch: 40\t Loss: 6973.3701171875\n",
      "Epoch: 50\t Loss: 6631.41552734375\n",
      "Epoch: 60\t Loss: 6330.189453125\n",
      "Epoch: 70\t Loss: 6635.47021484375\n",
      "Epoch: 80\t Loss: 6575.0419921875\n",
      "Epoch: 90\t Loss: 5422.75927734375\n",
      "Epoch: 100\t Loss: 5702.39990234375\n",
      "Epoch: 110\t Loss: 4717.6884765625\n",
      "Epoch: 120\t Loss: 5914.40576171875\n",
      "Epoch: 130\t Loss: 4765.595703125\n",
      "Epoch: 140\t Loss: 4496.3505859375\n",
      "Epoch: 150\t Loss: 4487.0009765625\n",
      "Epoch: 160\t Loss: 5198.20849609375\n",
      "Epoch: 170\t Loss: 4874.373046875\n",
      "Epoch: 180\t Loss: 4165.72607421875\n",
      "Epoch: 190\t Loss: 4034.46240234375\n"
     ]
    }
   ],
   "source": [
    "from model.train import train, reconstruct\n",
    "import matplotlib.pyplot as plt\n",
    "import torch\n",
    "\n",
    "# set to True then will skip training\n",
    "warm_start = True\n",
    "\n",
    "train_config = {\n",
    "    'lr'            : 5e-4,\n",
    "    'batch_size'    : 64,\n",
    "    'num_epoch'     : 200,        \n",
    "    'weight_decay'  : 5e-4,\n",
    "    'device'        : 'cuda:0',\n",
    "    'log_int'       : 10\n",
    "}\n",
    "\n",
    "if warm_start:\n",
    "\n",
    "    encoder.load_state_dict(torch.load('encoder_epochs100.pth'))\n",
    "    decoder.load_state_dict(torch.load('decoder_epochs100.pth'))\n",
    "\n",
    "    # train_config['num_epoch'] = 1\n",
    "    train_losses = train(train_x, encoder, decoder, train_config)\n",
    "\n",
    "    # torch.save(encoder.state_dict(), 'encoder_20000.pth')\n",
    "    # torch.save(decoder.state_dict(), 'decoder_20000.pth')\n",
    "\n",
    "    # encoder.load_state_dict(torch.load('encoder_epochs100.pth'))\n",
    "    # decoder.load_state_dict(torch.load('decoder_epochs100.pth'))\n",
    "\n",
    "    # encoder.load_state_dict(torch.load('saved_model/encoder_20000.pth'))\n",
    "    # decoder.load_state_dict(torch.load('saved_model/decoder_20000.pth'))\n",
    "\n",
    "else:\n",
    "\n",
    "    train_losses = train(train_x, encoder, decoder, train_config)"
   ]
  },
  {
   "cell_type": "code",
   "execution_count": 6,
   "metadata": {},
   "outputs": [],
   "source": [
    "# torch.save(encoder.state_dict(), 'encoder_epochs100.pth')\n",
    "# torch.save(decoder.state_dict(), 'decoder_epochs100.pth')"
   ]
  },
  {
   "cell_type": "code",
   "execution_count": 7,
   "metadata": {},
   "outputs": [
    {
     "name": "stderr",
     "output_type": "stream",
     "text": [
      "Clipping input data to the valid range for imshow with RGB data ([0..1] for floats or [0..255] for integers).\n",
      "Clipping input data to the valid range for imshow with RGB data ([0..1] for floats or [0..255] for integers).\n",
      "Clipping input data to the valid range for imshow with RGB data ([0..1] for floats or [0..255] for integers).\n",
      "Clipping input data to the valid range for imshow with RGB data ([0..1] for floats or [0..255] for integers).\n",
      "Clipping input data to the valid range for imshow with RGB data ([0..1] for floats or [0..255] for integers).\n"
     ]
    },
    {
     "data": {
      "image/png": "[encoded data removed]",
      "text/plain": [
       "<Figure size 800x300 with 10 Axes>"
      ]
     },
     "metadata": {},
     "output_type": "display_data"
    }
   ],
   "source": [
    "# # plot training loss curve\n",
    "# plt.plot(train_losses, lw = 1)\n",
    "# plt.ylabel('Train Loss')\n",
    "# plt.xlabel('Epochs')\n",
    "# plt.show()\n",
    "\n",
    "# plot reconstruction, ignore warnings\n",
    "x, x_pred, z_pred = reconstruct(test_x, encoder, decoder, train_config)\n",
    "fig, ax = plt.subplots(2, 5, figsize = [8, 3])\n",
    "for i in range(5):\n",
    "    ax[0, i].imshow(x[i])\n",
    "    ax[1, i].imshow(x_pred[i])\n",
    "    if i==0:\n",
    "        ax[0, i].set_ylabel('Ground-truth')\n",
    "        ax[1, i].set_ylabel('Reconstructed')\n",
    "    ax[0, i].set_yticks([])\n",
    "    ax[1, i].set_yticks([])\n",
    "    ax[0, i].set_xticks([])\n",
    "    ax[1, i].set_xticks([])\n"
   ]
  },
  {
   "cell_type": "code",
   "execution_count": 8,
   "metadata": {},
   "outputs": [
    {
     "name": "stdout",
     "output_type": "stream",
     "text": [
      "Epoch: 0\t Loss: 30.8797824382782\n",
      "Epoch: 100\t Loss: 19.123406284600495\n",
      "Epoch: 200\t Loss: 18.982626945376396\n",
      "Epoch: 0\t Loss: 30.908165834844112\n",
      "Epoch: 100\t Loss: 18.054076375663282\n",
      "Epoch: 200\t Loss: 19.0877955648303\n",
      "Epoch: 0\t Loss: 30.0491561293602\n",
      "Epoch: 100\t Loss: 18.324749736338855\n",
      "Epoch: 200\t Loss: 19.528476316034794\n",
      "Epoch: 0\t Loss: 33.85902500152588\n",
      "Epoch: 100\t Loss: 18.771819670945405\n",
      "Epoch: 200\t Loss: 18.91037976026535\n",
      "Epoch: 0\t Loss: 46.83782160282135\n",
      "Epoch: 100\t Loss: 18.37284495010972\n",
      "Epoch: 200\t Loss: 18.778953234553338\n"
     ]
    }
   ],
   "source": [
    "# learn a linear mapping from do-interventions \n",
    "from model.gamma_map import GammaMap, train_gammamap\n",
    "\n",
    "gm_train_config = {\n",
    "    'lr'            : 1e-2,\n",
    "    'batch_size'    : 64,\n",
    "    'num_epoch'     : 300,            # 300\n",
    "    'weight_decay'  : 5e-4,\n",
    "    'device'        : 'cuda:0',\n",
    "    'log_int'       : 100\n",
    "}\n",
    "\n",
    "tran_zs = []\n",
    "\n",
    "for _ in range(5):\n",
    "    gm = GammaMap(latent_dim, device = 'cuda:0')\n",
    "    z_pred = z_pred.cpu().detach().to('cuda:0') # clean the gradients\n",
    "    gm_losses = train_gammamap(z_pred, test_y, gm, gm_train_config)\n",
    "    tran_z = gm.transform(z_pred).cpu().detach().numpy()    # [ B, latent_dim ] numpy.array\n",
    "    tran_zs.append(tran_z)"
   ]
  },
  {
   "cell_type": "code",
   "execution_count": 9,
   "metadata": {},
   "outputs": [
    {
     "name": "stdout",
     "output_type": "stream",
     "text": [
      "[MCC]\t Before:  61.65\t After: 50.17 ( 4.97)\n"
     ]
    }
   ],
   "source": [
    "from utils.MCC import MCC\n",
    "# before\n",
    "pred_z = z_pred.cpu().detach().numpy()\n",
    "before_mcc = MCC(pred_z, test_z)\n",
    "\n",
    "# after\n",
    "mcc_list = []\n",
    "for tran_z in tran_zs:\n",
    "    mcc_list.append(MCC(tran_z, test_z))\n",
    "after_mcc_mean  = np.mean(mcc_list)\n",
    "after_mcc_std   = np.std(mcc_list)\n",
    "print(f'[MCC]\\t Before: {before_mcc : .2f}\\t After: {after_mcc_mean :.2f} ({after_mcc_std : .2f})')"
   ]
  },
  {
   "cell_type": "code",
   "execution_count": 10,
   "metadata": {},
   "outputs": [
    {
     "data": {
      "text/plain": [
       "(1000, 4)"
      ]
     },
     "execution_count": 10,
     "metadata": {},
     "output_type": "execute_result"
    }
   ],
   "source": [
    "pred_z.shape"
   ]
  },
  {
   "cell_type": "code",
   "execution_count": 11,
   "metadata": {},
   "outputs": [
    {
     "data": {
      "text/plain": [
       "array([0.5       , 0.58333333, 0.41666667, 0.5       , 0.41666667,\n",
       "       0.54166667, 0.375     , 0.375     , 0.54166667, 0.29166667,\n",
       "       0.45833333, 0.29166667, 0.54166667, 0.33333333, 0.29166667,\n",
       "       0.5       , 0.54166667, 0.75      , 0.33333333, 0.66666667,\n",
       "       0.375     , 0.375     , 0.45833333, 0.29166667, 0.70833333,\n",
       "       0.66666667, 0.375     , 0.54166667, 0.625     , 0.5       ,\n",
       "       0.5       , 0.75      , 0.625     , 0.41666667, 0.41666667,\n",
       "       0.5       , 0.41666667, 0.75      , 0.25      , 0.29166667,\n",
       "       0.25      , 0.625     , 0.75      , 0.70833333, 0.29166667,\n",
       "       0.66666667, 0.54166667, 0.45833333, 0.54166667, 0.45833333,\n",
       "       0.41666667, 0.58333333, 0.66666667, 0.375     , 0.58333333,\n",
       "       0.5       , 0.375     , 0.33333333, 0.5       , 0.45833333,\n",
       "       0.5       , 0.54166667, 0.58333333, 0.54166667, 0.54166667,\n",
       "       0.75      , 0.5       , 0.5       , 0.625     , 0.29166667,\n",
       "       0.75      , 0.25      , 0.41666667, 0.70833333, 0.375     ,\n",
       "       0.54166667, 0.625     , 0.58333333, 0.75      , 0.5       ,\n",
       "       0.5       , 0.375     , 0.58333333, 0.70833333, 0.33333333,\n",
       "       0.75      , 0.66666667, 0.29166667, 0.75      , 0.33333333,\n",
       "       0.58333333, 0.33333333, 0.58333333, 0.33333333, 0.75      ,\n",
       "       0.58333333, 0.375     , 0.54166667, 0.25      , 0.375     ,\n",
       "       0.41666667, 0.29166667, 0.33333333, 0.45833333, 0.58333333,\n",
       "       0.625     , 0.41666667, 0.41666667, 0.75      , 0.41666667,\n",
       "       0.45833333, 0.45833333, 0.625     , 0.58333333, 0.75      ,\n",
       "       0.29166667, 0.29166667, 0.25      , 0.375     , 0.25      ,\n",
       "       0.41666667, 0.54166667, 0.33333333, 0.5       , 0.5       ,\n",
       "       0.54166667, 0.29166667, 0.70833333, 0.66666667, 0.58333333,\n",
       "       0.45833333, 0.66666667, 0.70833333, 0.33333333, 0.5       ,\n",
       "       0.33333333, 0.45833333, 0.41666667, 0.70833333, 0.625     ,\n",
       "       0.375     , 0.25      , 0.66666667, 0.625     , 0.54166667,\n",
       "       0.5       , 0.25      , 0.45833333, 0.33333333, 0.66666667,\n",
       "       0.625     , 0.66666667, 0.75      , 0.58333333, 0.25      ,\n",
       "       0.54166667, 0.29166667, 0.33333333, 0.54166667, 0.375     ,\n",
       "       0.66666667, 0.58333333, 0.33333333, 0.70833333, 0.29166667,\n",
       "       0.75      , 0.75      , 0.29166667, 0.66666667, 0.75      ,\n",
       "       0.70833333, 0.54166667, 0.5       , 0.54166667, 0.25      ,\n",
       "       0.66666667, 0.25      , 0.41666667, 0.58333333, 0.25      ,\n",
       "       0.45833333, 0.29166667, 0.75      , 0.41666667, 0.66666667,\n",
       "       0.25      , 0.5       , 0.54166667, 0.625     , 0.29166667,\n",
       "       0.58333333, 0.66666667, 0.45833333, 0.75      , 0.45833333,\n",
       "       0.66666667, 0.25      , 0.41666667, 0.45833333, 0.41666667,\n",
       "       0.66666667, 0.66666667, 0.375     , 0.45833333, 0.66666667,\n",
       "       0.29166667, 0.75      , 0.45833333, 0.29166667, 0.29166667,\n",
       "       0.375     , 0.625     , 0.5       , 0.45833333, 0.41666667,\n",
       "       0.70833333, 0.54166667, 0.58333333, 0.45833333, 0.625     ,\n",
       "       0.25      , 0.75      , 0.29166667, 0.41666667, 0.75      ,\n",
       "       0.29166667, 0.33333333, 0.75      , 0.54166667, 0.75      ,\n",
       "       0.33333333, 0.58333333, 0.54166667, 0.625     , 0.625     ,\n",
       "       0.58333333, 0.66666667, 0.58333333, 0.5       , 0.25      ,\n",
       "       0.66666667, 0.66666667, 0.45833333, 0.33333333, 0.45833333,\n",
       "       0.25      , 0.25      , 0.29166667, 0.54166667, 0.625     ,\n",
       "       0.58333333, 0.70833333, 0.58333333, 0.375     , 0.58333333,\n",
       "       0.54166667, 0.33333333, 0.41666667, 0.70833333, 0.29166667,\n",
       "       0.66666667, 0.58333333, 0.41666667, 0.375     , 0.29166667,\n",
       "       0.41666667, 0.41666667, 0.70833333, 0.70833333, 0.58333333,\n",
       "       0.5       , 0.54166667, 0.70833333, 0.70833333, 0.5       ,\n",
       "       0.58333333, 0.66666667, 0.58333333, 0.54166667, 0.5       ,\n",
       "       0.5       , 0.54166667, 0.625     , 0.70833333, 0.66666667,\n",
       "       0.70833333, 0.5       , 0.5       , 0.66666667, 0.75      ,\n",
       "       0.66666667, 0.25      , 0.375     , 0.54166667, 0.70833333,\n",
       "       0.29166667, 0.54166667, 0.54166667, 0.375     , 0.75      ,\n",
       "       0.41666667, 0.5       , 0.70833333, 0.625     , 0.66666667,\n",
       "       0.45833333, 0.54166667, 0.58333333, 0.33333333, 0.29166667,\n",
       "       0.70833333, 0.54166667, 0.70833333, 0.58333333, 0.70833333,\n",
       "       0.70833333, 0.29166667, 0.29166667, 0.375     , 0.58333333,\n",
       "       0.66666667, 0.375     , 0.75      , 0.33333333, 0.375     ,\n",
       "       0.66666667, 0.66666667, 0.66666667, 0.45833333, 0.375     ,\n",
       "       0.45833333, 0.25      , 0.70833333, 0.625     , 0.70833333,\n",
       "       0.25      , 0.54166667, 0.33333333, 0.33333333, 0.5       ,\n",
       "       0.25      , 0.375     , 0.625     , 0.41666667, 0.54166667,\n",
       "       0.66666667, 0.58333333, 0.375     , 0.5       , 0.58333333,\n",
       "       0.66666667, 0.33333333, 0.45833333, 0.25      , 0.54166667,\n",
       "       0.375     , 0.75      , 0.45833333, 0.625     , 0.375     ,\n",
       "       0.41666667, 0.75      , 0.66666667, 0.58333333, 0.66666667,\n",
       "       0.5       , 0.58333333, 0.33333333, 0.25      , 0.5       ,\n",
       "       0.625     , 0.75      , 0.375     , 0.5       , 0.45833333,\n",
       "       0.33333333, 0.41666667, 0.54166667, 0.25      , 0.54166667,\n",
       "       0.54166667, 0.70833333, 0.41666667, 0.58333333, 0.5       ,\n",
       "       0.625     , 0.54166667, 0.45833333, 0.75      , 0.5       ,\n",
       "       0.33333333, 0.5       , 0.5       , 0.375     , 0.25      ,\n",
       "       0.75      , 0.41666667, 0.54166667, 0.70833333, 0.45833333,\n",
       "       0.29166667, 0.70833333, 0.33333333, 0.41666667, 0.25      ,\n",
       "       0.41666667, 0.375     , 0.58333333, 0.54166667, 0.66666667,\n",
       "       0.375     , 0.58333333, 0.375     , 0.66666667, 0.54166667,\n",
       "       0.70833333, 0.25      , 0.41666667, 0.58333333, 0.70833333,\n",
       "       0.66666667, 0.58333333, 0.54166667, 0.54166667, 0.5       ,\n",
       "       0.33333333, 0.45833333, 0.58333333, 0.375     , 0.45833333,\n",
       "       0.25      , 0.25      , 0.66666667, 0.25      , 0.66666667,\n",
       "       0.58333333, 0.625     , 0.25      , 0.58333333, 0.66666667,\n",
       "       0.70833333, 0.625     , 0.70833333, 0.41666667, 0.75      ,\n",
       "       0.70833333, 0.25      , 0.70833333, 0.5       , 0.75      ,\n",
       "       0.5       , 0.45833333, 0.75      , 0.5       , 0.41666667,\n",
       "       0.66666667, 0.25      , 0.45833333, 0.41666667, 0.45833333,\n",
       "       0.70833333, 0.625     , 0.375     , 0.70833333, 0.375     ,\n",
       "       0.375     , 0.375     , 0.33333333, 0.70833333, 0.70833333,\n",
       "       0.54166667, 0.25      , 0.45833333, 0.375     , 0.25      ,\n",
       "       0.45833333, 0.75      , 0.25      , 0.41666667, 0.66666667,\n",
       "       0.375     , 0.70833333, 0.5       , 0.33333333, 0.70833333,\n",
       "       0.25      , 0.66666667, 0.41666667, 0.33333333, 0.70833333,\n",
       "       0.54166667, 0.5       , 0.29166667, 0.625     , 0.54166667,\n",
       "       0.625     , 0.54166667, 0.625     , 0.75      , 0.33333333,\n",
       "       0.58333333, 0.29166667, 0.58333333, 0.625     , 0.25      ,\n",
       "       0.45833333, 0.25      , 0.375     , 0.75      , 0.25      ,\n",
       "       0.54166667, 0.58333333, 0.41666667, 0.75      , 0.41666667,\n",
       "       0.5       , 0.66666667, 0.5       , 0.375     , 0.5       ,\n",
       "       0.45833333, 0.45833333, 0.75      , 0.25      , 0.54166667,\n",
       "       0.41666667, 0.54166667, 0.45833333, 0.66666667, 0.33333333,\n",
       "       0.25      , 0.625     , 0.70833333, 0.41666667, 0.70833333,\n",
       "       0.5       , 0.29166667, 0.58333333, 0.70833333, 0.625     ,\n",
       "       0.25      , 0.33333333, 0.66666667, 0.70833333, 0.70833333,\n",
       "       0.25      , 0.5       , 0.70833333, 0.41666667, 0.25      ,\n",
       "       0.625     , 0.58333333, 0.75      , 0.45833333, 0.54166667,\n",
       "       0.58333333, 0.375     , 0.375     , 0.45833333, 0.625     ,\n",
       "       0.54166667, 0.54166667, 0.33333333, 0.25      , 0.75      ,\n",
       "       0.25      , 0.25      , 0.54166667, 0.33333333, 0.33333333,\n",
       "       0.66666667, 0.29166667, 0.45833333, 0.70833333, 0.54166667,\n",
       "       0.66666667, 0.58333333, 0.41666667, 0.375     , 0.70833333,\n",
       "       0.625     , 0.45833333, 0.75      , 0.5       , 0.66666667,\n",
       "       0.25      , 0.75      , 0.5       , 0.70833333, 0.45833333,\n",
       "       0.70833333, 0.45833333, 0.54166667, 0.45833333, 0.75      ,\n",
       "       0.375     , 0.625     , 0.70833333, 0.375     , 0.66666667,\n",
       "       0.45833333, 0.33333333, 0.66666667, 0.45833333, 0.45833333,\n",
       "       0.66666667, 0.70833333, 0.58333333, 0.33333333, 0.45833333,\n",
       "       0.75      , 0.5       , 0.25      , 0.41666667, 0.33333333,\n",
       "       0.33333333, 0.25      , 0.54166667, 0.70833333, 0.75      ,\n",
       "       0.41666667, 0.625     , 0.33333333, 0.375     , 0.41666667,\n",
       "       0.75      , 0.41666667, 0.45833333, 0.70833333, 0.25      ,\n",
       "       0.33333333, 0.66666667, 0.29166667, 0.70833333, 0.375     ,\n",
       "       0.25      , 0.5       , 0.375     , 0.41666667, 0.54166667,\n",
       "       0.29166667, 0.29166667, 0.66666667, 0.66666667, 0.375     ,\n",
       "       0.66666667, 0.25      , 0.625     , 0.25      , 0.33333333,\n",
       "       0.41666667, 0.25      , 0.54166667, 0.625     , 0.70833333,\n",
       "       0.625     , 0.45833333, 0.75      , 0.25      , 0.70833333,\n",
       "       0.25      , 0.75      , 0.45833333, 0.375     , 0.25      ,\n",
       "       0.29166667, 0.25      , 0.54166667, 0.25      , 0.75      ,\n",
       "       0.45833333, 0.5       , 0.45833333, 0.625     , 0.58333333,\n",
       "       0.66666667, 0.58333333, 0.66666667, 0.45833333, 0.58333333,\n",
       "       0.66666667, 0.58333333, 0.75      , 0.58333333, 0.41666667,\n",
       "       0.25      , 0.70833333, 0.58333333, 0.29166667, 0.54166667,\n",
       "       0.625     , 0.54166667, 0.66666667, 0.58333333, 0.29166667,\n",
       "       0.75      , 0.29166667, 0.5       , 0.375     , 0.25      ,\n",
       "       0.58333333, 0.45833333, 0.25      , 0.5       , 0.66666667,\n",
       "       0.70833333, 0.29166667, 0.58333333, 0.66666667, 0.5       ,\n",
       "       0.54166667, 0.70833333, 0.58333333, 0.70833333, 0.75      ,\n",
       "       0.45833333, 0.33333333, 0.375     , 0.375     , 0.70833333,\n",
       "       0.75      , 0.33333333, 0.75      , 0.75      , 0.5       ,\n",
       "       0.33333333, 0.58333333, 0.75      , 0.75      , 0.375     ,\n",
       "       0.5       , 0.33333333, 0.54166667, 0.45833333, 0.29166667,\n",
       "       0.54166667, 0.70833333, 0.375     , 0.25      , 0.58333333,\n",
       "       0.25      , 0.25      , 0.29166667, 0.41666667, 0.29166667,\n",
       "       0.625     , 0.625     , 0.625     , 0.66666667, 0.70833333,\n",
       "       0.54166667, 0.33333333, 0.54166667, 0.66666667, 0.66666667,\n",
       "       0.33333333, 0.75      , 0.54166667, 0.29166667, 0.25      ,\n",
       "       0.66666667, 0.70833333, 0.375     , 0.625     , 0.25      ,\n",
       "       0.33333333, 0.58333333, 0.25      , 0.33333333, 0.54166667,\n",
       "       0.70833333, 0.58333333, 0.54166667, 0.29166667, 0.45833333,\n",
       "       0.41666667, 0.66666667, 0.45833333, 0.54166667, 0.33333333,\n",
       "       0.70833333, 0.33333333, 0.45833333, 0.5       , 0.70833333,\n",
       "       0.70833333, 0.41666667, 0.58333333, 0.75      , 0.33333333,\n",
       "       0.25      , 0.70833333, 0.25      , 0.29166667, 0.41666667,\n",
       "       0.375     , 0.54166667, 0.75      , 0.625     , 0.25      ,\n",
       "       0.375     , 0.70833333, 0.41666667, 0.375     , 0.625     ,\n",
       "       0.75      , 0.5       , 0.41666667, 0.54166667, 0.25      ,\n",
       "       0.54166667, 0.41666667, 0.45833333, 0.25      , 0.25      ,\n",
       "       0.75      , 0.25      , 0.41666667, 0.29166667, 0.33333333,\n",
       "       0.625     , 0.45833333, 0.58333333, 0.45833333, 0.54166667,\n",
       "       0.58333333, 0.25      , 0.41666667, 0.45833333, 0.45833333,\n",
       "       0.29166667, 0.33333333, 0.375     , 0.75      , 0.54166667,\n",
       "       0.25      , 0.33333333, 0.45833333, 0.75      , 0.75      ,\n",
       "       0.58333333, 0.29166667, 0.70833333, 0.5       , 0.54166667,\n",
       "       0.25      , 0.45833333, 0.625     , 0.29166667, 0.25      ,\n",
       "       0.75      , 0.5       , 0.5       , 0.41666667, 0.625     ,\n",
       "       0.54166667, 0.33333333, 0.54166667, 0.58333333, 0.41666667,\n",
       "       0.70833333, 0.45833333, 0.70833333, 0.625     , 0.54166667,\n",
       "       0.75      , 0.25      , 0.54166667, 0.625     , 0.375     ,\n",
       "       0.5       , 0.70833333, 0.375     , 0.41666667, 0.625     ,\n",
       "       0.625     , 0.29166667, 0.33333333, 0.75      , 0.66666667,\n",
       "       0.75      , 0.25      , 0.625     , 0.33333333, 0.58333333,\n",
       "       0.66666667, 0.66666667, 0.70833333, 0.70833333, 0.625     ,\n",
       "       0.70833333, 0.45833333, 0.58333333, 0.70833333, 0.25      ,\n",
       "       0.625     , 0.41666667, 0.45833333, 0.625     , 0.375     ,\n",
       "       0.45833333, 0.70833333, 0.375     , 0.5       , 0.625     ,\n",
       "       0.33333333, 0.54166667, 0.75      , 0.41666667, 0.625     ,\n",
       "       0.33333333, 0.33333333, 0.5       , 0.54166667, 0.33333333,\n",
       "       0.5       , 0.33333333, 0.58333333, 0.25      , 0.29166667,\n",
       "       0.29166667, 0.54166667, 0.5       , 0.25      , 0.29166667,\n",
       "       0.54166667, 0.41666667, 0.5       , 0.45833333, 0.70833333,\n",
       "       0.41666667, 0.66666667, 0.625     , 0.25      , 0.625     ,\n",
       "       0.375     , 0.375     , 0.75      , 0.29166667, 0.625     ,\n",
       "       0.54166667, 0.5       , 0.54166667, 0.375     , 0.45833333,\n",
       "       0.75      , 0.33333333, 0.33333333, 0.54166667, 0.45833333,\n",
       "       0.58333333, 0.54166667, 0.25      , 0.45833333, 0.5       ,\n",
       "       0.54166667, 0.66666667, 0.25      , 0.25      , 0.25      ,\n",
       "       0.66666667, 0.75      , 0.70833333, 0.33333333, 0.41666667,\n",
       "       0.375     , 0.29166667, 0.29166667, 0.375     , 0.625     ,\n",
       "       0.54166667, 0.41666667, 0.75      , 0.75      , 0.29166667,\n",
       "       0.41666667, 0.375     , 0.625     , 0.54166667, 0.54166667,\n",
       "       0.41666667, 0.5       , 0.5       , 0.33333333, 0.45833333,\n",
       "       0.75      , 0.66666667, 0.625     , 0.41666667, 0.33333333,\n",
       "       0.66666667, 0.375     , 0.70833333, 0.70833333, 0.25      ,\n",
       "       0.45833333, 0.58333333, 0.375     , 0.33333333, 0.54166667])"
      ]
     },
     "execution_count": 11,
     "metadata": {},
     "output_type": "execute_result"
    },
    {
     "ename": "",
     "evalue": "",
     "output_type": "error",
     "traceback": [
      "\u001b[1;31mThe Kernel crashed while executing code in the current cell or a previous cell. \n",
      "\u001b[1;31mPlease review the code in the cell(s) to identify a possible cause of the failure. \n",
      "\u001b[1;31mClick <a href='https://aka.ms/vscodeJupyterKernelCrash'>here</a> for more info. \n",
      "\u001b[1;31mView Jupyter <a href='command:jupyter.viewOutput'>log</a> for further details."
     ]
    }
   ],
   "source": [
    "test_y[:, 1]"
   ]
  }
 ],
 "metadata": {
  "kernelspec": {
   "display_name": "Python 3",
   "language": "python",
   "name": "python3"
  },
  "language_info": {
   "codemirror_mode": {
    "name": "ipython",
    "version": 3
   },
   "file_extension": ".py",
   "mimetype": "text/x-python",
   "name": "python",
   "nbconvert_exporter": "python",
   "pygments_lexer": "ipython3",
   "version": "3.11.9"
  }
 },
 "nbformat": 4,
 "nbformat_minor": 2
}
